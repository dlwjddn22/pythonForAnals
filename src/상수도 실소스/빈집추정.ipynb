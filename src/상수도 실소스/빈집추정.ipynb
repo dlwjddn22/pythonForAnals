{
 "cells": [
  {
   "cell_type": "code",
   "execution_count": 1,
   "metadata": {},
   "outputs": [],
   "source": [
    "import CUBRIDdb\n",
    "import pandas as pd\n",
    "from datetime import datetime, timedelta\n",
    "import sys"
   ]
  },
  {
   "cell_type": "code",
   "execution_count": 2,
   "metadata": {},
   "outputs": [],
   "source": [
    "sys.stdout = open('/app/script/water_ans/ans_files/error_log.txt','a')"
   ]
  },
  {
   "cell_type": "code",
   "execution_count": 3,
   "metadata": {},
   "outputs": [],
   "source": [
    "#today = datetime.now()\n",
    "today = datetime(2021, 1, 6)\n",
    "today = today.strftime('%Y-%m-%d')#ex)2019-03-14"
   ]
  },
  {
   "cell_type": "code",
   "execution_count": 4,
   "metadata": {},
   "outputs": [],
   "source": [
    "conn = CUBRIDdb.connect('CUBRID:xxx.xx.xx.xxx:30000:dgsmwtanalysis:::','xxxxxx','xxxxxxx')\n",
    "conn.set_autocommit(False)\n",
    "cur = conn.cursor()\n",
    "select_query= \"\"\"\\\n",
    "    SELECT\n",
    "        cstmr_no,\n",
    "        mrnr_no,\n",
    "        SUM(smrt_mtinsp_hour_usgqty) AS usgqty,\n",
    "        MAX(smrt_mtinsp_indctpnt) AS max_indctpnt, \n",
    "        MIN(smrt_mtinsp_indctpnt) AS min_indctpnt\n",
    "    FROM\n",
    "        tb_smrt_mtinsp_info\n",
    "    WHERE mrnr_no = 'A00'\n",
    "    AND creat_stle = 'N'\n",
    "    AND mtinsp_dt >= ADD_MONTHS(DATE '{today}', -3)\n",
    "    GROUP BY cstmr_no, mrnr_no\n",
    "    HAVING usgqty = 0\n",
    "\"\"\".format(today=today)\n",
    "select_query = select_query.replace(\"\\n\\t\",\" \")\n",
    "select_query = select_query.replace(\"\\n\",\" \")\n",
    "cur.execute(select_query)\n",
    "\n",
    "rows = cur.fetchall()\n",
    "df = pd.DataFrame(rows)\n",
    "df.columns=['cstmr_no', 'mrnr_no', 'usgqty','max_indctpnt','min_indctpnt']"
   ]
  },
  {
   "cell_type": "code",
   "execution_count": 5,
   "metadata": {},
   "outputs": [],
   "source": [
    "df['cal'] = df['max_indctpnt']-df['min_indctpnt']"
   ]
  },
  {
   "cell_type": "code",
   "execution_count": 6,
   "metadata": {},
   "outputs": [],
   "source": [
    "df_cal = df[df['cal'] == 0]"
   ]
  },
  {
   "cell_type": "code",
   "execution_count": 7,
   "metadata": {},
   "outputs": [],
   "source": [
    "try:\n",
    "    for index, row in df_cal.iterrows():\n",
    "        cstmr_no = row[\"cstmr_no\"]\n",
    "        mrnr_no = row[\"mrnr_no\"]\n",
    "        insert_query = \"\"\"\\\n",
    "            INSERT INTO TB_UNINHBHOUS_ANALS_TEST\n",
    "            (ANALS_STDR_DAY,\n",
    "            CSTMR_NO,\n",
    "            MRNR_NO,\n",
    "            FRST_REGIST_DT) \n",
    "            VALUES\n",
    "            (DATE_FORMAT(SYSDATETIME, '%Y%m%d'),\n",
    "            '{cstmr_no}',\n",
    "            '{mrnr_no}',\n",
    "            CURRENT_TIMESTAMP\n",
    "            )\"\"\".format(cstmr_no=cstmr_no, mrnr_no=mrnr_no)\n",
    "\n",
    "        insert_query = insert_query.replace(\"\\n\\t\",\" \")\n",
    "        insert_query = insert_query.replace(\"\\n\",\" \")\n",
    "        cur.execute(insert_query)\n",
    "except Exception as e:\n",
    "    print(\"빈집추정에러 ::: \" + str(datetime.now()))\n",
    "    print(e)\n",
    "    conn.rollback()\n",
    "else:\n",
    "    conn.commit()"
   ]
  }
 ],
 "metadata": {
  "kernelspec": {
   "display_name": "Python 3",
   "language": "python",
   "name": "python3"
  },
  "language_info": {
   "codemirror_mode": {
    "name": "ipython",
    "version": 3
   },
   "file_extension": ".py",
   "mimetype": "text/x-python",
   "name": "python",
   "nbconvert_exporter": "python",
   "pygments_lexer": "ipython3",
   "version": "3.8.5"
  }
 },
 "nbformat": 4,
 "nbformat_minor": 4
}
