{
 "cells": [
  {
   "cell_type": "code",
   "execution_count": 17,
   "metadata": {},
   "outputs": [],
   "source": [
    "import numpy as np\n",
    "import pandas as pd\n",
    "import matplotlib.pyplot as plt\n",
    "\n",
    "import time\n",
    "import glob\n",
    "import csv\n",
    "import os\n",
    "import sys\n",
    "\n",
    "from datetime import datetime, timedelta\n",
    "from tsmoothie.smoother import *\n",
    "from tsmoothie.utils_func import sim_seasonal_data\n",
    "from tsmoothie.smoother import DecomposeSmoother"
   ]
  },
  {
   "cell_type": "code",
   "execution_count": 19,
   "metadata": {},
   "outputs": [],
   "source": [
    "sys.stdout = open('D:\\python\\log.txt','a')"
   ]
  },
  {
   "cell_type": "code",
   "execution_count": 20,
   "metadata": {},
   "outputs": [],
   "source": [
    "#today = datetime.now()\n",
    "today = datetime(2021, 1, 6)\n",
    "last_date=today-timedelta(weeks=1)\n",
    "today = today.strftime('%Y-%m-%d')#ex)2019-03-14\n",
    "last_date = last_date.strftime('%Y-%m-%d')#ex)2019-03-14"
   ]
  },
  {
   "cell_type": "code",
   "execution_count": 4,
   "metadata": {},
   "outputs": [],
   "source": [
    "import CUBRIDdb\n",
    "import pandas as pd\n",
    "\n",
    "conn = CUBRIDdb.connect('CUBRID:xxx.xx.xxx.xxx:30000:xxxx:::','xxxxxx','xxxxxxx')\n",
    "conn.set_autocommit(False)\n",
    "cur = conn.cursor()\n",
    "\n",
    "selectQry = \"\"\"\\\n",
    "    SELECT cstmr_no\n",
    "    , mrnr_no\n",
    "    , ok1\n",
    "    , ok1 - notOk1 AS notOk1\n",
    "    , ok2\n",
    "    , ok2 - notOk2 AS notOk2\n",
    "  FROM (\n",
    "        SELECT cstmr_no\n",
    "                 , mrnr_no\n",
    "                 , CASE WHEN ok = 1 THEN 1\n",
    "                           WHEN notOk1 = 0 THEN 1\n",
    "                           ELSE 0\n",
    "                   END AS ok1\n",
    "                 , notOk1\n",
    "                 , CASE WHEN ok = 1 THEN 1\n",
    "                           WHEN notOk2 = 0 THEN 1\n",
    "                           ELSE 0\n",
    "                   END AS ok2\n",
    "                 , notOk2\n",
    "         FROM (\n",
    "                    SELECT cstmr_no\n",
    "                            , mrnr_no\n",
    "                            , DECODE(smrt_mtinsp_sttus, '정상', 1, 0) ok\n",
    "                            , CASE WHEN smrt_mtinsp_sttus = '계량기오류' THEN 1\n",
    "                                      WHEN smrt_mtinsp_sttus = '계량기모뎀오류' THEN 1\n",
    "                                      ELSE 0\n",
    "                              END notOk1\n",
    "                            , CASE WHEN smrt_mtinsp_sttus = '모뎀오류' THEN 1\n",
    "                                      WHEN smrt_mtinsp_sttus = '계량기모뎀오류' THEN 1\n",
    "                                      ELSE 0\n",
    "                              END notOk2\n",
    "                    FROM tb_smrt_mtinsp_info\n",
    "                    WHERE mrnr_no = 'A00'\n",
    "                        AND mtinsp_dt BETWEEN TO_DATETIME('{last_date} 01:00:00', 'YYYY-MM-DD HH24:MI:SS') AND TO_DATETIME('{today} 00:00:00', 'YYYY-MM-DD HH24:MI:SS')\n",
    "                  )\n",
    "        )\n",
    "\"\"\".format(last_date=last_date, today=today)\n",
    "selectQry = selectQry.replace(\"\\n\\t\",\" \")\n",
    "selectQry = selectQry.replace(\"\\n\",\" \") \n",
    "\n",
    "cur.execute(selectQry)\n",
    "rows = cur.fetchall()\n",
    "df = pd.DataFrame(rows)\n",
    "df.columns=['cstmr_no', 'mrnr_no', 'ok1', 'notOk1', 'ok2', 'notOk2']"
   ]
  },
  {
   "cell_type": "code",
   "execution_count": 5,
   "metadata": {},
   "outputs": [],
   "source": [
    "df_du = df.drop_duplicates([\"cstmr_no\"], keep=\"last\")"
   ]
  },
  {
   "cell_type": "code",
   "execution_count": 6,
   "metadata": {},
   "outputs": [],
   "source": [
    "try:\n",
    "    for index, row in df_du.iterrows():\n",
    "        lst = df[df['cstmr_no'] == row[\"cstmr_no\"]]\n",
    "        y = lst['ok1']\n",
    "        y_hat = lst['notOk1']\n",
    "        RMSE_1 = 1- (np.sqrt(np.mean((y_hat - y)**2))) #계량기오류\n",
    "        y = lst['ok2']\n",
    "        y_hat = lst['notOk2']\n",
    "        RMSE_2 = 1-(np.sqrt(np.mean((y_hat - y)**2))) #모뎀오류\n",
    "        \n",
    "        if RMSE_1 <= 0.3 or RMSE_2 <= 0.3:\n",
    "            insert_query = \"\"\"\\\n",
    "                INSERT INTO tb_abnrml_anals_test\n",
    "                (\n",
    "                    anals_stdr_day,\n",
    "                    cstmr_no,\n",
    "                    mrnr_no,\n",
    "                    mrnr_rmse,\n",
    "                    trmnl_rmse,\n",
    "                    frst_regist_dt\n",
    "                )\n",
    "                VALUES\n",
    "                (\n",
    "                    DATE_FORMAT(SYSDATETIME, '%Y%m%d'),\n",
    "                    '{cstmr_no}',\n",
    "                    '{mrnr_no}',\n",
    "                    {mrnr_rmse},\n",
    "                    {trmnl_rmse},\n",
    "                    CURRENT_TIMESTAMP\n",
    "                )\n",
    "            \"\"\".format(cstmr_no=row['cstmr_no'], mrnr_no=row['mrnr_no'],mrnr_rmse=RMSE_1, trmnl_rmse=RMSE_2)          \n",
    "            insert_query = insert_query.replace(\"\\n\\t\",\" \")\n",
    "            insert_query = insert_query.replace(\"\\n\",\" \")  \n",
    "            cur.execute(insert_query)\n",
    "        \n",
    "        \n",
    "except Exception as e:\n",
    "    print(\"계량기모뎀에러 ::: \" + str(datetime.now()))\n",
    "    print(e)\n",
    "    conn.rollback\n",
    "    \n",
    "else:\n",
    "    conn.commit()"
   ]
  }
 ],
 "metadata": {
  "kernelspec": {
   "display_name": "Python 3",
   "language": "python",
   "name": "python3"
  },
  "language_info": {
   "codemirror_mode": {
    "name": "ipython",
    "version": 3
   },
   "file_extension": ".py",
   "mimetype": "text/x-python",
   "name": "python",
   "nbconvert_exporter": "python",
   "pygments_lexer": "ipython3",
   "version": "3.8.5"
  }
 },
 "nbformat": 4,
 "nbformat_minor": 4
}
