{
 "cells": [
  {
   "cell_type": "code",
   "execution_count": 1,
   "metadata": {},
   "outputs": [],
   "source": [
    "import numpy as np\n",
    "import pandas as pd\n",
    "import matplotlib.pyplot as plt\n",
    "\n",
    "import time\n",
    "import glob\n",
    "import csv\n",
    "import os\n",
    "import sys\n",
    "\n",
    "from datetime import datetime, timedelta\n",
    "from tsmoothie.smoother import *\n",
    "from tsmoothie.utils_func import sim_seasonal_data\n",
    "from tsmoothie.smoother import DecomposeSmoother"
   ]
  },
  {
   "cell_type": "code",
   "execution_count": 2,
   "metadata": {},
   "outputs": [],
   "source": [
    "#sys.stdout = open('D:\\python\\error_log.txt','a')"
   ]
  },
  {
   "cell_type": "code",
   "execution_count": 3,
   "metadata": {},
   "outputs": [],
   "source": [
    "#today = datetime.now()\n",
    "today = datetime(2020, 11, 30)\n",
    "last_date=today-timedelta(weeks=1)\n",
    "today = today.strftime('%Y-%m-%d')#ex)2019-03-14\n",
    "last_date = last_date.strftime('%Y-%m-%d')#ex)2019-03-14"
   ]
  },
  {
   "cell_type": "code",
   "execution_count": 4,
   "metadata": {},
   "outputs": [
    {
     "name": "stdout",
     "output_type": "stream",
     "text": [
      "    SELECT\n",
      "        cstmr_no,\n",
      "        mrnr_no,\n",
      "        smrt_trmnl_no,\n",
      "        mtinsp_dt,\n",
      "        smrt_mtinsp_hour_usgqty\n",
      "    FROM asmartmiteringinfo\n",
      "    WHERE creat_stle = 'N'\n",
      "    AND cstmr_no = '1970000026'\n",
      "    AND mrnr_no = 'A00'\n",
      "    AND mtinsp_dt BETWEEN '2020-11-23 01:00:00' AND '2020-11-30 00:00:00'\n",
      "    AND SUBSTR(cstmr_no, 0,4) != '2007'\n",
      "    ORDER BY cstmr_no, smrt_trmnl_no, mtinsp_dt\n",
      "\n"
     ]
    }
   ],
   "source": [
    "#import CUBRIDdb\n",
    "import pymysql\n",
    "\n",
    "conn = pymysql.connect(\n",
    "    user='egov39exbd', \n",
    "    passwd='579nof83', \n",
    "    host='172.17.17.165', \n",
    "    db='egov39exbd', \n",
    "    charset='utf8'\n",
    ")\n",
    "cur = conn.cursor(pymysql.cursors.DictCursor)\n",
    "\n",
    "selectQry = \"\"\"\\\n",
    "    SELECT\n",
    "        cstmr_no,\n",
    "        mrnr_no,\n",
    "        smrt_trmnl_no,\n",
    "        mtinsp_dt,\n",
    "        smrt_mtinsp_hour_usgqty\n",
    "    FROM asmartmiteringinfo\n",
    "    WHERE creat_stle = 'N'\n",
    "    AND cstmr_no = '1970000026'\n",
    "    AND mrnr_no = 'A00'\n",
    "    AND mtinsp_dt BETWEEN '{last_date} 01:00:00' AND '{today} 00:00:00'\n",
    "    AND SUBSTR(cstmr_no, 0,4) != '2007'\n",
    "    ORDER BY cstmr_no, smrt_trmnl_no, mtinsp_dt\n",
    "\"\"\".format(last_date=last_date, today=today)\n",
    "\n",
    "print(selectQry)\n",
    "\n",
    "cur.execute(selectQry)\n",
    "rows = cur.fetchall()\n",
    "\n",
    "df = pd.DataFrame(rows)\n",
    "df.columns=['cstmr_no', 'mrnr_no', 'smrt_trmnl_no', 'mtinsp_dt', 'smrt_mtinsp_hour_usgqty']"
   ]
  },
  {
   "cell_type": "code",
   "execution_count": 5,
   "metadata": {},
   "outputs": [
    {
     "data": {
      "text/html": [
       "<div>\n",
       "<style scoped>\n",
       "    .dataframe tbody tr th:only-of-type {\n",
       "        vertical-align: middle;\n",
       "    }\n",
       "\n",
       "    .dataframe tbody tr th {\n",
       "        vertical-align: top;\n",
       "    }\n",
       "\n",
       "    .dataframe thead th {\n",
       "        text-align: right;\n",
       "    }\n",
       "</style>\n",
       "<table border=\"1\" class=\"dataframe\">\n",
       "  <thead>\n",
       "    <tr style=\"text-align: right;\">\n",
       "      <th></th>\n",
       "      <th>cstmr_no</th>\n",
       "      <th>mrnr_no</th>\n",
       "      <th>smrt_trmnl_no</th>\n",
       "      <th>mtinsp_dt</th>\n",
       "      <th>smrt_mtinsp_hour_usgqty</th>\n",
       "    </tr>\n",
       "  </thead>\n",
       "  <tbody>\n",
       "    <tr>\n",
       "      <th>0</th>\n",
       "      <td>1970000026</td>\n",
       "      <td>A00</td>\n",
       "      <td>1911WS0059893</td>\n",
       "      <td>2020-11-23 01:00:00</td>\n",
       "      <td>0.000</td>\n",
       "    </tr>\n",
       "    <tr>\n",
       "      <th>1</th>\n",
       "      <td>1970000026</td>\n",
       "      <td>A00</td>\n",
       "      <td>1911WS0059893</td>\n",
       "      <td>2020-11-23 02:00:00</td>\n",
       "      <td>0.000</td>\n",
       "    </tr>\n",
       "    <tr>\n",
       "      <th>2</th>\n",
       "      <td>1970000026</td>\n",
       "      <td>A00</td>\n",
       "      <td>1911WS0059893</td>\n",
       "      <td>2020-11-23 03:00:00</td>\n",
       "      <td>0.000</td>\n",
       "    </tr>\n",
       "    <tr>\n",
       "      <th>3</th>\n",
       "      <td>1970000026</td>\n",
       "      <td>A00</td>\n",
       "      <td>1911WS0059893</td>\n",
       "      <td>2020-11-23 04:00:00</td>\n",
       "      <td>0.000</td>\n",
       "    </tr>\n",
       "    <tr>\n",
       "      <th>4</th>\n",
       "      <td>1970000026</td>\n",
       "      <td>A00</td>\n",
       "      <td>1911WS0059893</td>\n",
       "      <td>2020-11-23 05:00:00</td>\n",
       "      <td>0.000</td>\n",
       "    </tr>\n",
       "    <tr>\n",
       "      <th>...</th>\n",
       "      <td>...</td>\n",
       "      <td>...</td>\n",
       "      <td>...</td>\n",
       "      <td>...</td>\n",
       "      <td>...</td>\n",
       "    </tr>\n",
       "    <tr>\n",
       "      <th>152</th>\n",
       "      <td>1970000026</td>\n",
       "      <td>A00</td>\n",
       "      <td>1911WS0059893</td>\n",
       "      <td>2020-11-29 20:00:00</td>\n",
       "      <td>0.000</td>\n",
       "    </tr>\n",
       "    <tr>\n",
       "      <th>153</th>\n",
       "      <td>1970000026</td>\n",
       "      <td>A00</td>\n",
       "      <td>1911WS0059893</td>\n",
       "      <td>2020-11-29 21:00:00</td>\n",
       "      <td>0.000</td>\n",
       "    </tr>\n",
       "    <tr>\n",
       "      <th>154</th>\n",
       "      <td>1970000026</td>\n",
       "      <td>A00</td>\n",
       "      <td>1911WS0059893</td>\n",
       "      <td>2020-11-29 22:00:00</td>\n",
       "      <td>0.000</td>\n",
       "    </tr>\n",
       "    <tr>\n",
       "      <th>155</th>\n",
       "      <td>1970000026</td>\n",
       "      <td>A00</td>\n",
       "      <td>1911WS0059893</td>\n",
       "      <td>2020-11-29 23:00:00</td>\n",
       "      <td>0.000</td>\n",
       "    </tr>\n",
       "    <tr>\n",
       "      <th>156</th>\n",
       "      <td>1970000026</td>\n",
       "      <td>A00</td>\n",
       "      <td>1911WS0059893</td>\n",
       "      <td>2020-11-30 00:00:00</td>\n",
       "      <td>0.000</td>\n",
       "    </tr>\n",
       "  </tbody>\n",
       "</table>\n",
       "<p>157 rows × 5 columns</p>\n",
       "</div>"
      ],
      "text/plain": [
       "       cstmr_no mrnr_no  smrt_trmnl_no           mtinsp_dt  \\\n",
       "0    1970000026     A00  1911WS0059893 2020-11-23 01:00:00   \n",
       "1    1970000026     A00  1911WS0059893 2020-11-23 02:00:00   \n",
       "2    1970000026     A00  1911WS0059893 2020-11-23 03:00:00   \n",
       "3    1970000026     A00  1911WS0059893 2020-11-23 04:00:00   \n",
       "4    1970000026     A00  1911WS0059893 2020-11-23 05:00:00   \n",
       "..          ...     ...            ...                 ...   \n",
       "152  1970000026     A00  1911WS0059893 2020-11-29 20:00:00   \n",
       "153  1970000026     A00  1911WS0059893 2020-11-29 21:00:00   \n",
       "154  1970000026     A00  1911WS0059893 2020-11-29 22:00:00   \n",
       "155  1970000026     A00  1911WS0059893 2020-11-29 23:00:00   \n",
       "156  1970000026     A00  1911WS0059893 2020-11-30 00:00:00   \n",
       "\n",
       "    smrt_mtinsp_hour_usgqty  \n",
       "0                     0.000  \n",
       "1                     0.000  \n",
       "2                     0.000  \n",
       "3                     0.000  \n",
       "4                     0.000  \n",
       "..                      ...  \n",
       "152                   0.000  \n",
       "153                   0.000  \n",
       "154                   0.000  \n",
       "155                   0.000  \n",
       "156                   0.000  \n",
       "\n",
       "[157 rows x 5 columns]"
      ]
     },
     "execution_count": 5,
     "metadata": {},
     "output_type": "execute_result"
    }
   ],
   "source": [
    "df"
   ]
  },
  {
   "cell_type": "code",
   "execution_count": 6,
   "metadata": {},
   "outputs": [],
   "source": [
    "#df_du = df.drop_duplicates([\"cstmr_no\"], keep=\"last\")"
   ]
  },
  {
   "cell_type": "code",
   "execution_count": 7,
   "metadata": {},
   "outputs": [],
   "source": [
    "smoother = LowessSmoother(smooth_fraction=0.2, iterations=1)\n",
    "df[['smrt_mtinsp_hour_usgqty']] = df[['smrt_mtinsp_hour_usgqty']].apply(pd.to_numeric)\n",
    "smoother.smooth(df['smrt_mtinsp_hour_usgqty'])\n",
    "low, up = smoother.get_intervals('prediction_interval')"
   ]
  },
  {
   "cell_type": "code",
   "execution_count": 9,
   "metadata": {},
   "outputs": [
    {
     "data": {
      "text/plain": [
       "<matplotlib.collections.PolyCollection at 0x191d89449a0>"
      ]
     },
     "execution_count": 9,
     "metadata": {},
     "output_type": "execute_result"
    },
    {
     "data": {
      "image/png": "[encoded data removed]",
      "text/plain": [
       "<Figure size 3600x720 with 1 Axes>"
      ]
     },
     "metadata": {
      "needs_background": "light"
     },
     "output_type": "display_data"
    }
   ],
   "source": [
    "plt.figure(figsize=(50,10))\n",
    "plt.subplot(1,3,1)\n",
    "plt.plot(smoother.smooth_data[0], linewidth=3, color='blue')\n",
    "plt.plot(smoother.data[0], '.k')\n",
    "plt.title(f\"timeseries {1}\")\n",
    "plt.xlabel('time')\n",
    "\n",
    "plt.fill_between(range(len(smoother.data[0])), low[0], up[0], alpha=0.3)"
   ]
  }
 ],
 "metadata": {
  "kernelspec": {
   "display_name": "Python 3",
   "language": "python",
   "name": "python3"
  },
  "language_info": {
   "codemirror_mode": {
    "name": "ipython",
    "version": 3
   },
   "file_extension": ".py",
   "mimetype": "text/x-python",
   "name": "python",
   "nbconvert_exporter": "python",
   "pygments_lexer": "ipython3",
   "version": "3.8.5"
  }
 },
 "nbformat": 4,
 "nbformat_minor": 4
}
