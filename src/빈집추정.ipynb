{
 "cells": [
  {
   "cell_type": "code",
   "execution_count": 1,
   "metadata": {},
   "outputs": [],
   "source": [
    "#import CUBRIDdb\n",
    "import pymysql\n",
    "import pandas as pd\n",
    "from datetime import datetime, timedelta\n",
    "import sys"
   ]
  },
  {
   "cell_type": "code",
   "execution_count": 2,
   "metadata": {},
   "outputs": [],
   "source": [
    "#sys.stdout = open('D:\\python\\error_log.txt','a')"
   ]
  },
  {
   "cell_type": "code",
   "execution_count": 3,
   "metadata": {},
   "outputs": [],
   "source": [
    "#today = datetime.now()\n",
    "today = datetime(2020, 11, 30)\n",
    "today = today.strftime('%Y-%m-%d')#ex)2019-03-14"
   ]
  },
  {
   "cell_type": "code",
   "execution_count": 4,
   "metadata": {},
   "outputs": [],
   "source": [
    "conn = pymysql.connect(\n",
    "    user='egov39exbd', \n",
    "    passwd='579nof83', \n",
    "    host='172.17.17.165', \n",
    "    db='egov39exbd', \n",
    "    charset='utf8'\n",
    ")\n",
    "cur = conn.cursor(pymysql.cursors.DictCursor)\n",
    "select_query= \"\"\"\\\n",
    "    SELECT\n",
    "        cstmr_no,\n",
    "        mrnr_no,\n",
    "        SUM(smrt_mtinsp_hour_usgqty) AS usgqty,\n",
    "        MAX(smrt_mtinsp_indctpnt) AS max_indctpnt, \n",
    "        MIN(smrt_mtinsp_indctpnt) AS min_indctpnt\n",
    "    FROM\n",
    "        asmartmiteringinfo\n",
    "    WHERE mrnr_no = 'A00'\n",
    "    AND creat_stle = 'N'\n",
    "    AND mtinsp_dt >= DATE_ADD('{today}', interval -3 MONTH)\n",
    "    GROUP BY cstmr_no, mrnr_no\n",
    "\"\"\".format(today=today)\n",
    "select_query = select_query.replace(\"\\n\\t\",\" \")\n",
    "select_query = select_query.replace(\"\\n\",\" \")\n",
    "cur.execute(select_query)\n",
    "# HAVING usgqty = 0\n",
    "\n",
    "rows = cur.fetchall()\n",
    "df = pd.DataFrame(rows)\n",
    "df.columns=['cstmr_no', 'mrnr_no', 'usgqty','max_indctpnt','min_indctpnt']"
   ]
  },
  {
   "cell_type": "code",
   "execution_count": 5,
   "metadata": {},
   "outputs": [
    {
     "data": {
      "text/html": [
       "<div>\n",
       "<style scoped>\n",
       "    .dataframe tbody tr th:only-of-type {\n",
       "        vertical-align: middle;\n",
       "    }\n",
       "\n",
       "    .dataframe tbody tr th {\n",
       "        vertical-align: top;\n",
       "    }\n",
       "\n",
       "    .dataframe thead th {\n",
       "        text-align: right;\n",
       "    }\n",
       "</style>\n",
       "<table border=\"1\" class=\"dataframe\">\n",
       "  <thead>\n",
       "    <tr style=\"text-align: right;\">\n",
       "      <th></th>\n",
       "      <th>cstmr_no</th>\n",
       "      <th>mrnr_no</th>\n",
       "      <th>usgqty</th>\n",
       "      <th>max_indctpnt</th>\n",
       "      <th>min_indctpnt</th>\n",
       "    </tr>\n",
       "  </thead>\n",
       "  <tbody>\n",
       "    <tr>\n",
       "      <th>0</th>\n",
       "      <td>1952000001</td>\n",
       "      <td>A00</td>\n",
       "      <td>24.705</td>\n",
       "      <td>104.428</td>\n",
       "      <td>78.387</td>\n",
       "    </tr>\n",
       "    <tr>\n",
       "      <th>1</th>\n",
       "      <td>1965000030</td>\n",
       "      <td>A00</td>\n",
       "      <td>19.057</td>\n",
       "      <td>55.624</td>\n",
       "      <td>34.553</td>\n",
       "    </tr>\n",
       "    <tr>\n",
       "      <th>2</th>\n",
       "      <td>1965000051</td>\n",
       "      <td>A00</td>\n",
       "      <td>20.437</td>\n",
       "      <td>97.235</td>\n",
       "      <td>72.184</td>\n",
       "    </tr>\n",
       "    <tr>\n",
       "      <th>3</th>\n",
       "      <td>1967000092</td>\n",
       "      <td>A00</td>\n",
       "      <td>5.937</td>\n",
       "      <td>22.738</td>\n",
       "      <td>16.738</td>\n",
       "    </tr>\n",
       "    <tr>\n",
       "      <th>4</th>\n",
       "      <td>1969000139</td>\n",
       "      <td>A00</td>\n",
       "      <td>14.778</td>\n",
       "      <td>76.906</td>\n",
       "      <td>58.735</td>\n",
       "    </tr>\n",
       "    <tr>\n",
       "      <th>5</th>\n",
       "      <td>1969000159</td>\n",
       "      <td>A00</td>\n",
       "      <td>21.187</td>\n",
       "      <td>111.799</td>\n",
       "      <td>85.419</td>\n",
       "    </tr>\n",
       "    <tr>\n",
       "      <th>6</th>\n",
       "      <td>1970000004</td>\n",
       "      <td>A00</td>\n",
       "      <td>9.551</td>\n",
       "      <td>19.575</td>\n",
       "      <td>10.025</td>\n",
       "    </tr>\n",
       "    <tr>\n",
       "      <th>7</th>\n",
       "      <td>1970000026</td>\n",
       "      <td>A00</td>\n",
       "      <td>8.235</td>\n",
       "      <td>39.260</td>\n",
       "      <td>29.054</td>\n",
       "    </tr>\n",
       "    <tr>\n",
       "      <th>8</th>\n",
       "      <td>1970000044</td>\n",
       "      <td>A00</td>\n",
       "      <td>4.402</td>\n",
       "      <td>299.843</td>\n",
       "      <td>294.421</td>\n",
       "    </tr>\n",
       "    <tr>\n",
       "      <th>9</th>\n",
       "      <td>1970000075</td>\n",
       "      <td>A00</td>\n",
       "      <td>76.453</td>\n",
       "      <td>431.410</td>\n",
       "      <td>329.814</td>\n",
       "    </tr>\n",
       "  </tbody>\n",
       "</table>\n",
       "</div>"
      ],
      "text/plain": [
       "     cstmr_no mrnr_no  usgqty max_indctpnt min_indctpnt\n",
       "0  1952000001     A00  24.705      104.428       78.387\n",
       "1  1965000030     A00  19.057       55.624       34.553\n",
       "2  1965000051     A00  20.437       97.235       72.184\n",
       "3  1967000092     A00   5.937       22.738       16.738\n",
       "4  1969000139     A00  14.778       76.906       58.735\n",
       "5  1969000159     A00  21.187      111.799       85.419\n",
       "6  1970000004     A00   9.551       19.575       10.025\n",
       "7  1970000026     A00   8.235       39.260       29.054\n",
       "8  1970000044     A00   4.402      299.843      294.421\n",
       "9  1970000075     A00  76.453      431.410      329.814"
      ]
     },
     "execution_count": 5,
     "metadata": {},
     "output_type": "execute_result"
    }
   ],
   "source": [
    "df"
   ]
  },
  {
   "cell_type": "code",
   "execution_count": 6,
   "metadata": {},
   "outputs": [],
   "source": [
    "df['cal'] = df['max_indctpnt']-df['min_indctpnt']"
   ]
  },
  {
   "cell_type": "code",
   "execution_count": 7,
   "metadata": {},
   "outputs": [
    {
     "data": {
      "text/plain": [
       "pandas.core.series.Series"
      ]
     },
     "execution_count": 7,
     "metadata": {},
     "output_type": "execute_result"
    }
   ],
   "source": [
    "type(df['max_indctpnt'])"
   ]
  },
  {
   "cell_type": "code",
   "execution_count": 8,
   "metadata": {},
   "outputs": [
    {
     "data": {
      "text/plain": [
       "0     26.041\n",
       "1     21.071\n",
       "2     25.051\n",
       "3      6.000\n",
       "4     18.171\n",
       "5     26.380\n",
       "6      9.550\n",
       "7     10.206\n",
       "8      5.422\n",
       "9    101.596\n",
       "Name: cal, dtype: object"
      ]
     },
     "execution_count": 8,
     "metadata": {},
     "output_type": "execute_result"
    }
   ],
   "source": [
    "df['cal']"
   ]
  },
  {
   "cell_type": "code",
   "execution_count": 9,
   "metadata": {},
   "outputs": [],
   "source": [
    "df_cal = df[df['cal'] > 6] #3개월 사용량 합이 0인 집 대상 (0인집이 없어 일단 6으로 걸어봄)"
   ]
  },
  {
   "cell_type": "code",
   "execution_count": 10,
   "metadata": {},
   "outputs": [
    {
     "data": {
      "text/html": [
       "<div>\n",
       "<style scoped>\n",
       "    .dataframe tbody tr th:only-of-type {\n",
       "        vertical-align: middle;\n",
       "    }\n",
       "\n",
       "    .dataframe tbody tr th {\n",
       "        vertical-align: top;\n",
       "    }\n",
       "\n",
       "    .dataframe thead th {\n",
       "        text-align: right;\n",
       "    }\n",
       "</style>\n",
       "<table border=\"1\" class=\"dataframe\">\n",
       "  <thead>\n",
       "    <tr style=\"text-align: right;\">\n",
       "      <th></th>\n",
       "      <th>cstmr_no</th>\n",
       "      <th>mrnr_no</th>\n",
       "      <th>usgqty</th>\n",
       "      <th>max_indctpnt</th>\n",
       "      <th>min_indctpnt</th>\n",
       "      <th>cal</th>\n",
       "    </tr>\n",
       "  </thead>\n",
       "  <tbody>\n",
       "    <tr>\n",
       "      <th>0</th>\n",
       "      <td>1952000001</td>\n",
       "      <td>A00</td>\n",
       "      <td>24.705</td>\n",
       "      <td>104.428</td>\n",
       "      <td>78.387</td>\n",
       "      <td>26.041</td>\n",
       "    </tr>\n",
       "    <tr>\n",
       "      <th>1</th>\n",
       "      <td>1965000030</td>\n",
       "      <td>A00</td>\n",
       "      <td>19.057</td>\n",
       "      <td>55.624</td>\n",
       "      <td>34.553</td>\n",
       "      <td>21.071</td>\n",
       "    </tr>\n",
       "    <tr>\n",
       "      <th>2</th>\n",
       "      <td>1965000051</td>\n",
       "      <td>A00</td>\n",
       "      <td>20.437</td>\n",
       "      <td>97.235</td>\n",
       "      <td>72.184</td>\n",
       "      <td>25.051</td>\n",
       "    </tr>\n",
       "    <tr>\n",
       "      <th>4</th>\n",
       "      <td>1969000139</td>\n",
       "      <td>A00</td>\n",
       "      <td>14.778</td>\n",
       "      <td>76.906</td>\n",
       "      <td>58.735</td>\n",
       "      <td>18.171</td>\n",
       "    </tr>\n",
       "    <tr>\n",
       "      <th>5</th>\n",
       "      <td>1969000159</td>\n",
       "      <td>A00</td>\n",
       "      <td>21.187</td>\n",
       "      <td>111.799</td>\n",
       "      <td>85.419</td>\n",
       "      <td>26.380</td>\n",
       "    </tr>\n",
       "    <tr>\n",
       "      <th>6</th>\n",
       "      <td>1970000004</td>\n",
       "      <td>A00</td>\n",
       "      <td>9.551</td>\n",
       "      <td>19.575</td>\n",
       "      <td>10.025</td>\n",
       "      <td>9.550</td>\n",
       "    </tr>\n",
       "    <tr>\n",
       "      <th>7</th>\n",
       "      <td>1970000026</td>\n",
       "      <td>A00</td>\n",
       "      <td>8.235</td>\n",
       "      <td>39.260</td>\n",
       "      <td>29.054</td>\n",
       "      <td>10.206</td>\n",
       "    </tr>\n",
       "    <tr>\n",
       "      <th>9</th>\n",
       "      <td>1970000075</td>\n",
       "      <td>A00</td>\n",
       "      <td>76.453</td>\n",
       "      <td>431.410</td>\n",
       "      <td>329.814</td>\n",
       "      <td>101.596</td>\n",
       "    </tr>\n",
       "  </tbody>\n",
       "</table>\n",
       "</div>"
      ],
      "text/plain": [
       "     cstmr_no mrnr_no  usgqty max_indctpnt min_indctpnt      cal\n",
       "0  1952000001     A00  24.705      104.428       78.387   26.041\n",
       "1  1965000030     A00  19.057       55.624       34.553   21.071\n",
       "2  1965000051     A00  20.437       97.235       72.184   25.051\n",
       "4  1969000139     A00  14.778       76.906       58.735   18.171\n",
       "5  1969000159     A00  21.187      111.799       85.419   26.380\n",
       "6  1970000004     A00   9.551       19.575       10.025    9.550\n",
       "7  1970000026     A00   8.235       39.260       29.054   10.206\n",
       "9  1970000075     A00  76.453      431.410      329.814  101.596"
      ]
     },
     "execution_count": 10,
     "metadata": {},
     "output_type": "execute_result"
    }
   ],
   "source": [
    "df_cal"
   ]
  }
 ],
 "metadata": {
  "kernelspec": {
   "display_name": "Python 3",
   "language": "python",
   "name": "python3"
  },
  "language_info": {
   "codemirror_mode": {
    "name": "ipython",
    "version": 3
   },
   "file_extension": ".py",
   "mimetype": "text/x-python",
   "name": "python",
   "nbconvert_exporter": "python",
   "pygments_lexer": "ipython3",
   "version": "3.8.5"
  }
 },
 "nbformat": 4,
 "nbformat_minor": 4
}
