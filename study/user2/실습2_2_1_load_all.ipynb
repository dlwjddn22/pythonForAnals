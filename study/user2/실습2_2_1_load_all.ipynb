{
 "metadata": {
  "language_info": {
   "codemirror_mode": {
    "name": "ipython",
    "version": 3
   },
   "file_extension": ".py",
   "mimetype": "text/x-python",
   "name": "python",
   "nbconvert_exporter": "python",
   "pygments_lexer": "ipython3",
   "version": "3.8.5-final"
  },
  "orig_nbformat": 2,
  "kernelspec": {
   "name": "python3",
   "display_name": "Python 3",
   "language": "python"
  }
 },
 "nbformat": 4,
 "nbformat_minor": 2,
 "cells": [
  {
   "source": [
    "문제: [2.1 FinanceDataReader를 통한 상장종목 전체 불러오기](https://github.com/corazzon/finance-data-analysis/blob/main/2.1%20FinanceDataReader%EB%A5%BC%20%ED%86%B5%ED%95%9C%20%EC%83%81%EC%9E%A5%EC%A2%85%EB%AA%A9%20%EC%A0%84%EC%B2%B4%20%EB%B6%88%EB%9F%AC%EC%98%A4%EA%B8%B0-input.ipynb)"
   ],
   "cell_type": "markdown",
   "metadata": {}
  },
  {
   "cell_type": "code",
   "execution_count": 1,
   "metadata": {},
   "outputs": [],
   "source": [
    "# 기본 세팅 및 정보 확인\n",
    "import pandas as pd\n",
    "import FinanceDataReader as fdr\n",
    "\n",
    "# print(fdr.__version__)"
   ]
  },
  {
   "cell_type": "code",
   "execution_count": 2,
   "metadata": {},
   "outputs": [
    {
     "output_type": "stream",
     "name": "stdout",
     "text": [
      "(6667, 10)\n<class 'pandas.core.frame.DataFrame'>\nInt64Index: 6667 entries, 0 to 6666\nData columns (total 10 columns):\n #   Column          Non-Null Count  Dtype         \n---  ------          --------------  -----         \n 0   Symbol          6667 non-null   object        \n 1   Market          6667 non-null   object        \n 2   Name            6667 non-null   object        \n 3   Sector          2412 non-null   object        \n 4   Industry        2393 non-null   object        \n 5   ListingDate     2412 non-null   datetime64[ns]\n 6   SettleMonth     2412 non-null   object        \n 7   Representative  2412 non-null   object        \n 8   HomePage        2239 non-null   object        \n 9   Region          2412 non-null   object        \ndtypes: datetime64[ns](1), object(9)\nmemory usage: 572.9+ KB\nNone\n        Symbol Market             Name         Sector Industry  \\\ncount     6667   6667             6667           2412     2393   \nunique    6667      3             6667            158     2241   \ntop     52FJ03  KOSPI  NHFC67KOSPI200콜  특수 목적용 기계 제조업   기업인수합병   \nfreq         1   5031                1            141       36   \nfirst      NaN    NaN              NaN            NaN      NaN   \nlast       NaN    NaN              NaN            NaN      NaN   \n\n                ListingDate SettleMonth Representative  \\\ncount                  2412        2412           2412   \nunique                 1777           9           2297   \ntop     1976-06-30 00:00:00         12월              -   \nfreq                      8        2352              5   \nfirst   1956-03-03 00:00:00         NaN            NaN   \nlast    2021-01-25 00:00:00         NaN            NaN   \n\n                            HomePage Region  \ncount                           2239   2412  \nunique                          2218     21  \ntop     http://www.chosunwelding.com  서울특별시  \nfreq                               2    972  \nfirst                            NaN    NaN  \nlast                             NaN    NaN  \n"
     ]
    }
   ],
   "source": [
    "# 리스트 가져오기\n",
    "\n",
    "## KRX : KRX 종목 전체\n",
    "## KOSPI : KOSPI 종목\n",
    "## KOSDAQ : KOSDAQ 종목\n",
    "## KONEX : KONEX 종목\n",
    "## NASDAQ : 나스닥 종목\n",
    "## NYSE : 뉴욕증권거래소 종목\n",
    "## SP500 : S&P500 종목\n",
    "krx_list = fdr.StockListing(\"KRX\")\n",
    "\n",
    "# 가져온 리스트 정보 보기\n",
    "# print(krx_list.head(10))\n",
    "print(krx_list.shape)\n",
    "print(krx_list.info())\n",
    "print(krx_list.describe())"
   ]
  },
  {
   "cell_type": "code",
   "execution_count": 4,
   "metadata": {},
   "outputs": [
    {
     "output_type": "stream",
     "name": "stdout",
     "text": [
      "(6667, 10)\n<class 'pandas.core.frame.DataFrame'>\nRangeIndex: 6667 entries, 0 to 6666\nData columns (total 10 columns):\n #   Column          Non-Null Count  Dtype         \n---  ------          --------------  -----         \n 0   Symbol          6667 non-null   object        \n 1   Market          6667 non-null   object        \n 2   Name            6667 non-null   object        \n 3   Sector          2412 non-null   object        \n 4   Industry        2393 non-null   object        \n 5   ListingDate     2412 non-null   datetime64[ns]\n 6   SettleMonth     2412 non-null   object        \n 7   Representative  2412 non-null   object        \n 8   HomePage        2239 non-null   object        \n 9   Region          2412 non-null   object        \ndtypes: datetime64[ns](1), object(9)\nmemory usage: 521.0+ KB\nNone\n        Symbol Market             Name         Sector Industry  \\\ncount     6667   6667             6667           2412     2393   \nunique    6667      3             6667            158     2241   \ntop     52FJ03  KOSPI  NHFC67KOSPI200콜  특수 목적용 기계 제조업   기업인수합병   \nfreq         1   5031                1            141       36   \nfirst      NaN    NaN              NaN            NaN      NaN   \nlast       NaN    NaN              NaN            NaN      NaN   \n\n                ListingDate SettleMonth Representative  \\\ncount                  2412        2412           2412   \nunique                 1777           9           2297   \ntop     1976-06-30 00:00:00         12월              -   \nfreq                      8        2352              5   \nfirst   1956-03-03 00:00:00         NaN            NaN   \nlast    2021-01-25 00:00:00         NaN            NaN   \n\n                            HomePage Region  \ncount                           2239   2412  \nunique                          2218     21  \ntop     http://www.chosunwelding.com  서울특별시  \nfreq                               2    972  \nfirst                            NaN    NaN  \nlast                             NaN    NaN  \n"
     ]
    }
   ],
   "source": [
    "# dataframe 저장\n",
    "krx_list.to_csv(\"data/krx_list.csv\", index=False)\n",
    "\n",
    "# dateframe 불러오기\n",
    "krx_list_saved = pd.read_csv(\"data/krx_list.csv\")\n",
    "krx_list_saved[\"ListingDate\"] = pd.to_datetime(krx_list_saved[\"ListingDate\"])\n",
    "\n",
    "# 확인\n",
    "# print(krx_list_saved.head(10))\n",
    "print(krx_list_saved.shape)\n",
    "print(krx_list_saved.info())\n",
    "print(krx_list_saved.describe())"
   ]
  },
  {
   "cell_type": "code",
   "execution_count": null,
   "metadata": {},
   "outputs": [],
   "source": []
  }
 ]
}