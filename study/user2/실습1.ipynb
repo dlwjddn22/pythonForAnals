{
 "cells": [
  {
   "cell_type": "markdown",
   "metadata": {},
   "source": [
    "아래 1번 블록은 한 회사의 고객 리스트이다. 이 데이터를 활용하여 아래의 문제들에 대한 답을 찾는 Python 스크립트를 작성하라.\n",
    "\n",
    "* 문제1: 고객의 수를 계산하라\n",
    "* 문제2: 고객의 나이를 큰값에서 작은 값의 순서로 정렬하라\n",
    "* 문제3: 고객의 나이 중 두번째로 큰 값은 얼마인가?\n",
    "* 문제4: sales의 평균값은 얼마인가?\n",
    "* 문제5: 각 고객별로 sales와 전체고객의 sales 평균간의 차이는 얼마인가?\n",
    "* 문제6: cust dataframe에 freq를 걸럼으로 추가한 후 처음부터 3명의 고객을 출력하라.\n",
    "* 문제7: 고객별 구매1건당 평균 sales 금액을 구하여 avgsales 라는 이름의 컬럼으로\n",
    "cust dataframe에 추가한 후 마지막 두 명의  고객을 출력하라.\n",
    "* 문제8: cust dataframe을 avgsales 순서로 정렬하고, avgsales가 가장 큰 세명의 고객을 출력하라.\n",
    "* 문제9: 고객의 freq와 sales간의 분포를 scatter plot으로 작성하라.\n",
    "* 문제10 : freq와 평균sales간의 관계를 scatterplot을 이용하여 시각화하고 점들간의 분포를 보여주는 폴리노미얼 추세선을 추가하라. 동일 좌표에 복수의 점이 존재할 수 있으므로 jitter 함수를 이용하여 복수의 점이 존재하는지를 scatterplot에 반영하라. 결과는 다음의 6_1 10 챠트와 같은 모습이 되어야 한다\n",
    "[https://docs.google.com/document/d/1WfYykvNHJ_iNLfZXSZg38IHmqM7Xge3uxBQR-ZpiB_g]\n",
    "* 문제11: 문제 10의 결과에서 40대인 고객들만 red color로 점을 표시하라\n",
    "* 문제12: 고객리스트에 동일하게 36세이며 두 번에 걸쳐 총 55를 구매한 고객을 세 명 추가한 후 문제 11과 같은 형식의 scatter plot을 작성하라\n",
    "\n"
   ]
  },
  {
   "cell_type": "code",
   "execution_count": 1,
   "metadata": {},
   "outputs": [
    {
     "name": "stdout",
     "output_type": "stream",
     "text": [
      "    age  sales\n",
      "0    30     65\n",
      "1    31     65\n",
      "2    32     65\n",
      "3    33     65\n",
      "4    34     65\n",
      "5    35     65\n",
      "6    36     65\n",
      "7    37     60\n",
      "8    38     60\n",
      "9    39     60\n",
      "10   40     60\n",
      "11   41     60\n",
      "12   42     60\n",
      "13   43     60\n",
      "14   44     80\n",
      "15   45     80\n",
      "16   46     80\n",
      "17   47     80\n",
      "18   48     80\n",
      "19   49     80\n",
      "20   50     80\n"
     ]
    }
   ],
   "source": [
    "# BASE\n",
    "import pandas as pd\n",
    "import numpy as np\n",
    "\n",
    "cust = pd.DataFrame({'age' : np.arange(30,51), \n",
    "                    'sales' : np.repeat([65,60,80],7)})\n",
    "\n",
    "freq = np.repeat([3,7,4,2,1,1,2],3)\n",
    "#sales는 각 고객별 총판매금액이며 freq는 구매횟수이다.\n",
    "\n",
    "print(cust)"
   ]
  },
  {
   "cell_type": "code",
   "execution_count": 2,
   "metadata": {},
   "outputs": [
    {
     "name": "stdout",
     "output_type": "stream",
     "text": [
      "21\n"
     ]
    }
   ],
   "source": [
    "# 문제1\n",
    "q_1_count = len(cust)\n",
    "print(q_1_count)"
   ]
  },
  {
   "cell_type": "code",
   "execution_count": 3,
   "metadata": {},
   "outputs": [
    {
     "name": "stdout",
     "output_type": "stream",
     "text": [
      "    age  sales\n",
      "20   50     80\n",
      "19   49     80\n",
      "18   48     80\n",
      "17   47     80\n",
      "16   46     80\n",
      "15   45     80\n",
      "14   44     80\n",
      "13   43     60\n",
      "12   42     60\n",
      "11   41     60\n",
      "10   40     60\n",
      "9    39     60\n",
      "8    38     60\n",
      "7    37     60\n",
      "6    36     65\n",
      "5    35     65\n",
      "4    34     65\n",
      "3    33     65\n",
      "2    32     65\n",
      "1    31     65\n",
      "0    30     65\n"
     ]
    }
   ],
   "source": [
    "# 문제2\n",
    "q_2_sort = cust.sort_values(by=\"age\", ascending=False)\n",
    "print(q_2_sort)"
   ]
  },
  {
   "cell_type": "code",
   "execution_count": 4,
   "metadata": {},
   "outputs": [
    {
     "name": "stdout",
     "output_type": "stream",
     "text": [
      "49\n"
     ]
    }
   ],
   "source": [
    "# 문제3\n",
    "q_3_largest_2nd = q_2_sort.iloc[1][\"age\"]\n",
    "print(q_3_largest_2nd)"
   ]
  },
  {
   "cell_type": "code",
   "execution_count": 5,
   "metadata": {},
   "outputs": [
    {
     "name": "stdout",
     "output_type": "stream",
     "text": [
      "68.33333333333333\n"
     ]
    }
   ],
   "source": [
    "# 문제4\n",
    "q_4_sales_mean = cust[\"sales\"].mean()\n",
    "print(q_4_sales_mean)"
   ]
  },
  {
   "cell_type": "code",
   "execution_count": 6,
   "metadata": {},
   "outputs": [
    {
     "name": "stdout",
     "output_type": "stream",
     "text": [
      "    age  sales       diff\n",
      "0    30     65  -3.333333\n",
      "1    31     65  -3.333333\n",
      "2    32     65  -3.333333\n",
      "3    33     65  -3.333333\n",
      "4    34     65  -3.333333\n",
      "5    35     65  -3.333333\n",
      "6    36     65  -3.333333\n",
      "7    37     60  -8.333333\n",
      "8    38     60  -8.333333\n",
      "9    39     60  -8.333333\n",
      "10   40     60  -8.333333\n",
      "11   41     60  -8.333333\n",
      "12   42     60  -8.333333\n",
      "13   43     60  -8.333333\n",
      "14   44     80  11.666667\n",
      "15   45     80  11.666667\n",
      "16   46     80  11.666667\n",
      "17   47     80  11.666667\n",
      "18   48     80  11.666667\n",
      "19   49     80  11.666667\n",
      "20   50     80  11.666667\n"
     ]
    }
   ],
   "source": [
    "# 문제5\n",
    "q_5_sales_diff_mean = cust.copy()\n",
    "q_5_sales_diff_mean[\"diff\"] = q_5_sales_diff_mean[\"sales\"] - q_4_sales_mean\n",
    "print(q_5_sales_diff_mean)"
   ]
  },
  {
   "cell_type": "code",
   "execution_count": 7,
   "metadata": {},
   "outputs": [
    {
     "name": "stdout",
     "output_type": "stream",
     "text": [
      "    age  sales  freq\n",
      "0    30     65     3\n",
      "1    31     65     3\n",
      "2    32     65     3\n",
      "3    33     65     7\n",
      "4    34     65     7\n",
      "5    35     65     7\n",
      "6    36     65     4\n",
      "7    37     60     4\n",
      "8    38     60     4\n",
      "9    39     60     2\n",
      "10   40     60     2\n",
      "11   41     60     2\n",
      "12   42     60     1\n",
      "13   43     60     1\n",
      "14   44     80     1\n",
      "15   45     80     1\n",
      "16   46     80     1\n",
      "17   47     80     1\n",
      "18   48     80     2\n",
      "19   49     80     2\n",
      "20   50     80     2\n",
      "   age  sales  freq\n",
      "0   30     65     3\n",
      "1   31     65     3\n",
      "2   32     65     3\n"
     ]
    }
   ],
   "source": [
    "# 문제6\n",
    "q_6_append_freq = cust.copy()\n",
    "q_6_append_freq[\"freq\"] = freq\n",
    "print(q_6_append_freq)\n",
    "print(q_6_append_freq.head(3))"
   ]
  },
  {
   "cell_type": "code",
   "execution_count": 8,
   "metadata": {},
   "outputs": [
    {
     "name": "stdout",
     "output_type": "stream",
     "text": [
      "    age  sales  freq   avgsales\n",
      "0    30     65     3  21.666667\n",
      "1    31     65     3  21.666667\n",
      "2    32     65     3  21.666667\n",
      "3    33     65     7   9.285714\n",
      "4    34     65     7   9.285714\n",
      "5    35     65     7   9.285714\n",
      "6    36     65     4  16.250000\n",
      "7    37     60     4  15.000000\n",
      "8    38     60     4  15.000000\n",
      "9    39     60     2  30.000000\n",
      "10   40     60     2  30.000000\n",
      "11   41     60     2  30.000000\n",
      "12   42     60     1  60.000000\n",
      "13   43     60     1  60.000000\n",
      "14   44     80     1  80.000000\n",
      "15   45     80     1  80.000000\n",
      "16   46     80     1  80.000000\n",
      "17   47     80     1  80.000000\n",
      "18   48     80     2  40.000000\n",
      "19   49     80     2  40.000000\n",
      "20   50     80     2  40.000000\n",
      "    age  sales  freq  avgsales\n",
      "19   49     80     2      40.0\n",
      "20   50     80     2      40.0\n"
     ]
    }
   ],
   "source": [
    "# 문제7\n",
    "q_7_append_avgsales = q_6_append_freq.copy()\n",
    "q_7_append_avgsales[\"avgsales\"] = q_7_append_avgsales[\"sales\"] / q_7_append_avgsales[\"freq\"]\n",
    "print(q_7_append_avgsales)\n",
    "print(q_7_append_avgsales.tail(2))"
   ]
  },
  {
   "cell_type": "code",
   "execution_count": 9,
   "metadata": {},
   "outputs": [
    {
     "name": "stdout",
     "output_type": "stream",
     "text": [
      "    age  sales  freq   avgsales\n",
      "3    33     65     7   9.285714\n",
      "4    34     65     7   9.285714\n",
      "5    35     65     7   9.285714\n",
      "7    37     60     4  15.000000\n",
      "8    38     60     4  15.000000\n",
      "6    36     65     4  16.250000\n",
      "0    30     65     3  21.666667\n",
      "1    31     65     3  21.666667\n",
      "2    32     65     3  21.666667\n",
      "11   41     60     2  30.000000\n",
      "10   40     60     2  30.000000\n",
      "9    39     60     2  30.000000\n",
      "18   48     80     2  40.000000\n",
      "19   49     80     2  40.000000\n",
      "20   50     80     2  40.000000\n",
      "12   42     60     1  60.000000\n",
      "13   43     60     1  60.000000\n",
      "14   44     80     1  80.000000\n",
      "15   45     80     1  80.000000\n",
      "16   46     80     1  80.000000\n",
      "17   47     80     1  80.000000\n",
      "    age  sales  freq  avgsales\n",
      "15   45     80     1      80.0\n",
      "16   46     80     1      80.0\n",
      "17   47     80     1      80.0\n"
     ]
    }
   ],
   "source": [
    "# 문제8\n",
    "q_8_sort_avgsales = q_7_append_avgsales.copy()\n",
    "q_8_sort_avgsales = q_8_sort_avgsales.sort_values(by=\"avgsales\", ascending=True)\n",
    "print(q_8_sort_avgsales)\n",
    "print(q_8_sort_avgsales.tail(3))"
   ]
  },
  {
   "cell_type": "code",
   "execution_count": 10,
   "metadata": {},
   "outputs": [
    {
     "data": {
      "image/png": "[encoded data removed]",
      "text/plain": [
       "<Figure size 432x288 with 1 Axes>"
      ]
     },
     "metadata": {
      "needs_background": "light"
     },
     "output_type": "display_data"
    }
   ],
   "source": [
    "# 문제9\n",
    "import matplotlib.pyplot as plt\n",
    "q_9_plot_scatter_sales = q_6_append_freq.copy()\n",
    "plt.scatter(q_9_plot_scatter_sales[\"freq\"], q_9_plot_scatter_sales[\"sales\"])\n",
    "plt.xlabel(\"freq\")\n",
    "plt.ylabel(\"sales\")\n",
    "plt.title(\"Q9. draw scatter plot\")\n",
    "plt.show()"
   ]
  },
  {
   "cell_type": "code",
   "execution_count": 11,
   "metadata": {},
   "outputs": [
    {
     "data": {
      "image/png": "[encoded data removed]",
      "text/plain": [
       "<Figure size 432x288 with 1 Axes>"
      ]
     },
     "metadata": {
      "needs_background": "light"
     },
     "output_type": "display_data"
    }
   ],
   "source": [
    "# 문제10\n",
    "import matplotlib.pyplot as plt\n",
    "\n",
    "# https://stackoverflow.com/questions/8671808/matplotlib-avoiding-overlapping-datapoints-in-a-scatter-dot-beeswarm-plot\n",
    "def rand_jitter(arr):\n",
    "    stdev = .01 * (max(arr) - min(arr))\n",
    "    return arr + np.random.randn(len(arr)) * stdev\n",
    "\n",
    "## 데이터 생성\n",
    "q_10_plot_scatter_avgsales = q_7_append_avgsales.copy()\n",
    "\n",
    "## 다항식 찾기 및 다항식 추세선 좌표 계산\n",
    "q_10_poly_coef = np.polyfit(q_10_plot_scatter_avgsales[\"freq\"], q_10_plot_scatter_avgsales[\"avgsales\"], 3)\n",
    "q_10_poly = np.poly1d(q_10_poly_coef)\n",
    "#q_10_poly_x = np.linspace(0, 8, 100) # 다항식 그래프 X좌표: 0~7, 100개 좌표\n",
    "q_10_poly_x = q_10_plot_scatter_avgsales[\"freq\"].drop_duplicates().sort_values() # 다항식 그래프 X좌표: 데이터프레임에 존재하는 freq만\n",
    "q_10_poly_y = q_10_poly(q_10_poly_x)\n",
    "\n",
    "## 2가지 그래프 작성 방식: https://actruce.com/en/object-oriented-way-of-using-matplotlib-4-multiple-subplots/ 참조\n",
    "\n",
    "## 그래프 작성(matplotlib pyplot(MATLAB style))\n",
    "# plt.rcParams[\"axes.grid\"] = True\n",
    "# plt.scatter(rand_jitter(q_10_plot_scatter_avgsales[\"freq\"]), rand_jitter(q_10_plot_scatter_avgsales[\"avgsales\"]), alpha=0.5)\n",
    "# plt.plot(q_10_poly_x, q_10_poly_y, linewidth=10, color=\"gray\", alpha=0.2)\n",
    "# plt.xlabel(\"freq\")\n",
    "# plt.ylabel(\"avgsales\")\n",
    "# plt.title(\"Q10. draw scatter plot\")\n",
    "# plt.text(1.3, 76, \"max avgsales\") # 글자 삽입\n",
    "# plt.axes([0.65, 0.65, 0.2, 0.2]) # 플로팅 차트\n",
    "# plt.plot(q_10_poly_x, q_10_poly_y, linewidth=10, color=\"gray\", alpha=0.2) # 플로팅 차트\n",
    "# plt.show()\n",
    "\n",
    "## 그래프 작성(matplotlib 객체지향)\n",
    "# plt.rcParams[\"axes.grid\"] = True # 차트에 그리드 구분선 사용\n",
    "q_10_figure = plt.figure(1) # 창 1번(생략 가능)\n",
    "q_10_axes = q_10_figure.add_subplot(1,1,1) # 세로1칸, 가로1칸 중 1번째(생략가능)\n",
    "q_10_axes.scatter(rand_jitter(q_10_plot_scatter_avgsales[\"freq\"]), rand_jitter(q_10_plot_scatter_avgsales[\"avgsales\"]), alpha=0.5)\n",
    "q_10_axes.plot(q_10_poly_x, q_10_poly_y, linewidth=10, color=\"gray\", alpha=0.2)\n",
    "q_10_axes.set_xlabel(\"freq\")\n",
    "q_10_axes.set_ylabel(\"avgsales\")\n",
    "q_10_axes.set_title(\"Q10. draw scatter plot\")\n",
    "# q_10_axes_floating = q_10_figure.add_axes([0.65, 0.65, 0.2, 0.2]) # 아래로부터 65%, 왼쪽으로부터 65% 위치로부터 너비 20%, 높이 20% 크기\n",
    "# q_10_axes_floating.plot(q_10_poly_x, q_10_poly_y, linewidth=10, color=\"gray\", alpha=0.2)\n",
    "plt.show()\n",
    "\n",
    "## 그래프 작성(3D / 객체지향 기준)\n",
    "# q_10_figure = plt.figure(2)\n",
    "# q_10_axes = q_10_figure.gca(projection=\"3d\")\n",
    "# q_10_axes.scatter(q_10_plot_scatter_avgsales[\"freq\"], q_10_plot_scatter_avgsales[\"avgsales\"], q_10_plot_scatter_avgsales[\"age\"], alpha=0.5)\n",
    "# q_10_axes.set_xlabel(\"freq\")\n",
    "# q_10_axes.set_ylabel(\"avgsales\")\n",
    "# q_10_axes.set_zlabel(\"age\")\n",
    "# q_10_axes.set_title(\"Q10. draw scatter plot(3D)\")\n",
    "# plt.show()"
   ]
  },
  {
   "cell_type": "code",
   "execution_count": 12,
   "metadata": {},
   "outputs": [
    {
     "data": {
      "image/png": "[encoded data removed]",
      "text/plain": [
       "<Figure size 432x288 with 1 Axes>"
      ]
     },
     "metadata": {
      "needs_background": "light"
     },
     "output_type": "display_data"
    }
   ],
   "source": [
    "# 문제11\n",
    "import matplotlib.pyplot as plt\n",
    "\n",
    "# https://stackoverflow.com/questions/8671808/matplotlib-avoiding-overlapping-datapoints-in-a-scatter-dot-beeswarm-plot\n",
    "def rand_jitter(arr):\n",
    "    stdev = .01 * (max(arr) - min(arr))\n",
    "    return arr + np.random.randn(len(arr)) * stdev\n",
    "\n",
    "## 데이터 생성\n",
    "q_11_plot_scatter_avgsales = q_7_append_avgsales.copy()\n",
    "q_11_plot_scatter_avgsales_on_40 = q_11_plot_scatter_avgsales[ (q_11_plot_scatter_avgsales[\"age\"] >= 40) & (q_11_plot_scatter_avgsales[\"age\"] < 50) ]\n",
    "q_11_plot_scatter_avgsales_not_on_40 = q_11_plot_scatter_avgsales[ (q_11_plot_scatter_avgsales[\"age\"] < 40) | (q_11_plot_scatter_avgsales[\"age\"] >= 50) ]\n",
    "\n",
    "## 다항식 찾기 및 다항식 추세선 좌표 계산\n",
    "q_11_poly_coef = np.polyfit(q_11_plot_scatter_avgsales[\"freq\"], q_11_plot_scatter_avgsales[\"avgsales\"], 3)\n",
    "q_11_poly = np.poly1d(q_11_poly_coef)\n",
    "q_11_poly_x = q_11_plot_scatter_avgsales[\"freq\"].drop_duplicates().sort_values()\n",
    "q_11_poly_y = q_11_poly(q_11_poly_x)\n",
    "\n",
    "## 그래프 작성(matplotlib pyplot(MATLAB style))\n",
    "plt.scatter(rand_jitter(q_11_plot_scatter_avgsales_on_40[\"freq\"]), rand_jitter(q_11_plot_scatter_avgsales_on_40[\"avgsales\"]), color=\"red\", alpha=0.5)\n",
    "plt.scatter(rand_jitter(q_11_plot_scatter_avgsales_not_on_40[\"freq\"]), rand_jitter(q_11_plot_scatter_avgsales_not_on_40[\"avgsales\"]), alpha=0.5)\n",
    "plt.plot(q_11_poly_x, q_11_poly_y, linewidth=10, color=\"gray\", alpha=0.2)\n",
    "plt.xlabel(\"freq\")\n",
    "plt.ylabel(\"avgsales\")\n",
    "plt.title(\"Q11. draw scatter plot\")\n",
    "plt.show()"
   ]
  },
  {
   "cell_type": "code",
   "execution_count": 13,
   "metadata": {},
   "outputs": [
    {
     "data": {
      "image/png": "[encoded data removed]",
      "text/plain": [
       "<Figure size 432x288 with 1 Axes>"
      ]
     },
     "metadata": {
      "needs_background": "light"
     },
     "output_type": "display_data"
    }
   ],
   "source": [
    "# 문제12\n",
    "import matplotlib.pyplot as plt\n",
    "\n",
    "# https://stackoverflow.com/questions/8671808/matplotlib-avoiding-overlapping-datapoints-in-a-scatter-dot-beeswarm-plot\n",
    "def rand_jitter(arr):\n",
    "    stdev = .01 * (max(arr) - min(arr))\n",
    "    return arr + np.random.randn(len(arr)) * stdev\n",
    "\n",
    "## 데이터 생성\n",
    "q_12_plot_scatter_avgsales = q_7_append_avgsales.copy()\n",
    "\n",
    "q_12_append = pd.DataFrame({\"age\": np.repeat(36,3), \n",
    "                            \"sales\": np.repeat(55,3),\n",
    "                            \"freq\": np.repeat(2,3)})\n",
    "q_12_append[\"avgsales\"] = q_12_append[\"sales\"] / q_12_append[\"freq\"]\n",
    "\n",
    "q_12_plot_scatter_avgsales = pd.concat([q_12_plot_scatter_avgsales, q_12_append], ignore_index=True) # 인덱스 겹침 방지(기존 인덱스 들어가면 인덱스 중복으로 추후 오류)\n",
    "\n",
    "q_12_plot_scatter_avgsales_on_40 = q_12_plot_scatter_avgsales[ (q_11_plot_scatter_avgsales[\"age\"] >= 40) & (q_12_plot_scatter_avgsales[\"age\"] < 50) ]\n",
    "q_12_plot_scatter_avgsales_not_on_40 = q_12_plot_scatter_avgsales[ (q_12_plot_scatter_avgsales[\"age\"] < 40) | (q_12_plot_scatter_avgsales[\"age\"] >= 50) ]\n",
    "\n",
    "## 다항식 찾기 및 다항식 추세선 좌표 계산\n",
    "q_12_poly_coef = np.polyfit(q_12_plot_scatter_avgsales[\"freq\"], q_12_plot_scatter_avgsales[\"avgsales\"], 3)\n",
    "q_12_poly = np.poly1d(q_12_poly_coef)\n",
    "q_12_poly_x = q_12_plot_scatter_avgsales[\"freq\"].drop_duplicates().sort_values()\n",
    "q_12_poly_y = q_12_poly(q_12_poly_x)\n",
    "\n",
    "## 그래프 작성(matplotlib pyplot(MATLAB style))\n",
    "plt.scatter(rand_jitter(q_12_plot_scatter_avgsales_on_40[\"freq\"]), rand_jitter(q_12_plot_scatter_avgsales_on_40[\"avgsales\"]), color=\"red\", alpha=0.5)\n",
    "plt.scatter(rand_jitter(q_12_plot_scatter_avgsales_not_on_40[\"freq\"]), rand_jitter(q_12_plot_scatter_avgsales_not_on_40[\"avgsales\"]), alpha=0.5)\n",
    "plt.plot(q_12_poly_x, q_12_poly_y, linewidth=10, color=\"gray\", alpha=0.2)\n",
    "plt.xlabel(\"freq\")\n",
    "plt.ylabel(\"avgsales\")\n",
    "plt.title(\"Q12. draw scatter plot\")\n",
    "plt.show()"
   ]
  },
  {
   "cell_type": "code",
   "execution_count": null,
   "metadata": {},
   "outputs": [],
   "source": []
  }
 ],
 "metadata": {
  "kernelspec": {
   "display_name": "Python 3",
   "language": "python",
   "name": "python3"
  },
  "language_info": {
   "codemirror_mode": {
    "name": "ipython",
    "version": 3
   },
   "file_extension": ".py",
   "mimetype": "text/x-python",
   "name": "python",
   "nbconvert_exporter": "python",
   "pygments_lexer": "ipython3",
   "version": "3.8.5"
  }
 },
 "nbformat": 4,
 "nbformat_minor": 4
}
