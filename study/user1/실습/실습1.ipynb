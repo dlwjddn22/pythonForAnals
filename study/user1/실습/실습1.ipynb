{
 "cells": [
  {
   "cell_type": "code",
   "execution_count": 1,
   "metadata": {},
   "outputs": [],
   "source": [
    "# 아래는 한 회사의 고객 리스트이다. 이 데이터를 활용하여 아래의 문제들에 대한 답을 찾는 Python 스크립트를 작성하라.\n",
    "import pandas as pd\n",
    "import numpy as np\n",
    " \n",
    "# data to use\n",
    "cust = pd.DataFrame({'age' : np.arange(30,51), \n",
    "                    'sales' : np.repeat([65,60,80],7)})\n",
    " \n",
    "freq = np.repeat([3,7,4,2,1,1,2],3)\n",
    "# sales는 각 고객별 총판매금액이며 freq는 구매횟수이다."
   ]
  },
  {
   "cell_type": "code",
   "execution_count": 2,
   "metadata": {},
   "outputs": [
    {
     "name": "stdout",
     "output_type": "stream",
     "text": [
      "21\n",
      "21\n"
     ]
    }
   ],
   "source": [
    "# 문제1: 고객의 수를 계산하라\n",
    "cnt1 = len(cust)\n",
    "print(cnt1)\n",
    "cnt2 = cust.index.stop\n",
    "print(cnt2)"
   ]
  },
  {
   "cell_type": "code",
   "execution_count": 3,
   "metadata": {},
   "outputs": [
    {
     "data": {
      "text/html": [
       "<div>\n",
       "<style scoped>\n",
       "    .dataframe tbody tr th:only-of-type {\n",
       "        vertical-align: middle;\n",
       "    }\n",
       "\n",
       "    .dataframe tbody tr th {\n",
       "        vertical-align: top;\n",
       "    }\n",
       "\n",
       "    .dataframe thead th {\n",
       "        text-align: right;\n",
       "    }\n",
       "</style>\n",
       "<table border=\"1\" class=\"dataframe\">\n",
       "  <thead>\n",
       "    <tr style=\"text-align: right;\">\n",
       "      <th></th>\n",
       "      <th>age</th>\n",
       "      <th>sales</th>\n",
       "    </tr>\n",
       "  </thead>\n",
       "  <tbody>\n",
       "    <tr>\n",
       "      <th>20</th>\n",
       "      <td>50</td>\n",
       "      <td>80</td>\n",
       "    </tr>\n",
       "    <tr>\n",
       "      <th>19</th>\n",
       "      <td>49</td>\n",
       "      <td>80</td>\n",
       "    </tr>\n",
       "    <tr>\n",
       "      <th>18</th>\n",
       "      <td>48</td>\n",
       "      <td>80</td>\n",
       "    </tr>\n",
       "    <tr>\n",
       "      <th>17</th>\n",
       "      <td>47</td>\n",
       "      <td>80</td>\n",
       "    </tr>\n",
       "    <tr>\n",
       "      <th>16</th>\n",
       "      <td>46</td>\n",
       "      <td>80</td>\n",
       "    </tr>\n",
       "    <tr>\n",
       "      <th>15</th>\n",
       "      <td>45</td>\n",
       "      <td>80</td>\n",
       "    </tr>\n",
       "    <tr>\n",
       "      <th>14</th>\n",
       "      <td>44</td>\n",
       "      <td>80</td>\n",
       "    </tr>\n",
       "    <tr>\n",
       "      <th>13</th>\n",
       "      <td>43</td>\n",
       "      <td>60</td>\n",
       "    </tr>\n",
       "    <tr>\n",
       "      <th>12</th>\n",
       "      <td>42</td>\n",
       "      <td>60</td>\n",
       "    </tr>\n",
       "    <tr>\n",
       "      <th>11</th>\n",
       "      <td>41</td>\n",
       "      <td>60</td>\n",
       "    </tr>\n",
       "    <tr>\n",
       "      <th>10</th>\n",
       "      <td>40</td>\n",
       "      <td>60</td>\n",
       "    </tr>\n",
       "    <tr>\n",
       "      <th>9</th>\n",
       "      <td>39</td>\n",
       "      <td>60</td>\n",
       "    </tr>\n",
       "    <tr>\n",
       "      <th>8</th>\n",
       "      <td>38</td>\n",
       "      <td>60</td>\n",
       "    </tr>\n",
       "    <tr>\n",
       "      <th>7</th>\n",
       "      <td>37</td>\n",
       "      <td>60</td>\n",
       "    </tr>\n",
       "    <tr>\n",
       "      <th>6</th>\n",
       "      <td>36</td>\n",
       "      <td>65</td>\n",
       "    </tr>\n",
       "    <tr>\n",
       "      <th>5</th>\n",
       "      <td>35</td>\n",
       "      <td>65</td>\n",
       "    </tr>\n",
       "    <tr>\n",
       "      <th>4</th>\n",
       "      <td>34</td>\n",
       "      <td>65</td>\n",
       "    </tr>\n",
       "    <tr>\n",
       "      <th>3</th>\n",
       "      <td>33</td>\n",
       "      <td>65</td>\n",
       "    </tr>\n",
       "    <tr>\n",
       "      <th>2</th>\n",
       "      <td>32</td>\n",
       "      <td>65</td>\n",
       "    </tr>\n",
       "    <tr>\n",
       "      <th>1</th>\n",
       "      <td>31</td>\n",
       "      <td>65</td>\n",
       "    </tr>\n",
       "    <tr>\n",
       "      <th>0</th>\n",
       "      <td>30</td>\n",
       "      <td>65</td>\n",
       "    </tr>\n",
       "  </tbody>\n",
       "</table>\n",
       "</div>"
      ],
      "text/plain": [
       "    age  sales\n",
       "20   50     80\n",
       "19   49     80\n",
       "18   48     80\n",
       "17   47     80\n",
       "16   46     80\n",
       "15   45     80\n",
       "14   44     80\n",
       "13   43     60\n",
       "12   42     60\n",
       "11   41     60\n",
       "10   40     60\n",
       "9    39     60\n",
       "8    38     60\n",
       "7    37     60\n",
       "6    36     65\n",
       "5    35     65\n",
       "4    34     65\n",
       "3    33     65\n",
       "2    32     65\n",
       "1    31     65\n",
       "0    30     65"
      ]
     },
     "execution_count": 3,
     "metadata": {},
     "output_type": "execute_result"
    }
   ],
   "source": [
    "# 문제2: 고객의 나이를 큰값에서 작은 값의 순서로 정렬하라\n",
    "cust.sort_values(by=\"age\", ascending=False)"
   ]
  },
  {
   "cell_type": "code",
   "execution_count": 4,
   "metadata": {},
   "outputs": [
    {
     "name": "stdout",
     "output_type": "stream",
     "text": [
      "49\n"
     ]
    }
   ],
   "source": [
    "# 문제3: 고객의 나이 중 두번째로 큰 값은 얼마인가?\n",
    "cage = cust.drop_duplicates(\"age\").sort_values(by=\"age\", ascending=False) #나이 중복제거하고 역순으로 정렬\n",
    "for idx, val in enumerate(cage.age): \n",
    "    if idx == 1: #두번째로 많은 나이\n",
    "        print(val)\n",
    "        break"
   ]
  },
  {
   "cell_type": "code",
   "execution_count": 5,
   "metadata": {},
   "outputs": [
    {
     "data": {
      "text/plain": [
       "68.33333333333333"
      ]
     },
     "execution_count": 5,
     "metadata": {},
     "output_type": "execute_result"
    }
   ],
   "source": [
    "# 문제4: sales의 평균값은 얼마인가?\n",
    "cust.sales.mean()"
   ]
  },
  {
   "cell_type": "code",
   "execution_count": 6,
   "metadata": {},
   "outputs": [
    {
     "data": {
      "text/html": [
       "<div>\n",
       "<style scoped>\n",
       "    .dataframe tbody tr th:only-of-type {\n",
       "        vertical-align: middle;\n",
       "    }\n",
       "\n",
       "    .dataframe tbody tr th {\n",
       "        vertical-align: top;\n",
       "    }\n",
       "\n",
       "    .dataframe thead th {\n",
       "        text-align: right;\n",
       "    }\n",
       "</style>\n",
       "<table border=\"1\" class=\"dataframe\">\n",
       "  <thead>\n",
       "    <tr style=\"text-align: right;\">\n",
       "      <th></th>\n",
       "      <th>sales</th>\n",
       "      <th>mean</th>\n",
       "      <th>calc</th>\n",
       "    </tr>\n",
       "  </thead>\n",
       "  <tbody>\n",
       "    <tr>\n",
       "      <th>0</th>\n",
       "      <td>65</td>\n",
       "      <td>68.333333</td>\n",
       "      <td>-3.333333</td>\n",
       "    </tr>\n",
       "    <tr>\n",
       "      <th>1</th>\n",
       "      <td>65</td>\n",
       "      <td>68.333333</td>\n",
       "      <td>-3.333333</td>\n",
       "    </tr>\n",
       "    <tr>\n",
       "      <th>2</th>\n",
       "      <td>65</td>\n",
       "      <td>68.333333</td>\n",
       "      <td>-3.333333</td>\n",
       "    </tr>\n",
       "    <tr>\n",
       "      <th>3</th>\n",
       "      <td>65</td>\n",
       "      <td>68.333333</td>\n",
       "      <td>-3.333333</td>\n",
       "    </tr>\n",
       "    <tr>\n",
       "      <th>4</th>\n",
       "      <td>65</td>\n",
       "      <td>68.333333</td>\n",
       "      <td>-3.333333</td>\n",
       "    </tr>\n",
       "    <tr>\n",
       "      <th>5</th>\n",
       "      <td>65</td>\n",
       "      <td>68.333333</td>\n",
       "      <td>-3.333333</td>\n",
       "    </tr>\n",
       "    <tr>\n",
       "      <th>6</th>\n",
       "      <td>65</td>\n",
       "      <td>68.333333</td>\n",
       "      <td>-3.333333</td>\n",
       "    </tr>\n",
       "    <tr>\n",
       "      <th>7</th>\n",
       "      <td>60</td>\n",
       "      <td>68.333333</td>\n",
       "      <td>-8.333333</td>\n",
       "    </tr>\n",
       "    <tr>\n",
       "      <th>8</th>\n",
       "      <td>60</td>\n",
       "      <td>68.333333</td>\n",
       "      <td>-8.333333</td>\n",
       "    </tr>\n",
       "    <tr>\n",
       "      <th>9</th>\n",
       "      <td>60</td>\n",
       "      <td>68.333333</td>\n",
       "      <td>-8.333333</td>\n",
       "    </tr>\n",
       "    <tr>\n",
       "      <th>10</th>\n",
       "      <td>60</td>\n",
       "      <td>68.333333</td>\n",
       "      <td>-8.333333</td>\n",
       "    </tr>\n",
       "    <tr>\n",
       "      <th>11</th>\n",
       "      <td>60</td>\n",
       "      <td>68.333333</td>\n",
       "      <td>-8.333333</td>\n",
       "    </tr>\n",
       "    <tr>\n",
       "      <th>12</th>\n",
       "      <td>60</td>\n",
       "      <td>68.333333</td>\n",
       "      <td>-8.333333</td>\n",
       "    </tr>\n",
       "    <tr>\n",
       "      <th>13</th>\n",
       "      <td>60</td>\n",
       "      <td>68.333333</td>\n",
       "      <td>-8.333333</td>\n",
       "    </tr>\n",
       "    <tr>\n",
       "      <th>14</th>\n",
       "      <td>80</td>\n",
       "      <td>68.333333</td>\n",
       "      <td>11.666667</td>\n",
       "    </tr>\n",
       "    <tr>\n",
       "      <th>15</th>\n",
       "      <td>80</td>\n",
       "      <td>68.333333</td>\n",
       "      <td>11.666667</td>\n",
       "    </tr>\n",
       "    <tr>\n",
       "      <th>16</th>\n",
       "      <td>80</td>\n",
       "      <td>68.333333</td>\n",
       "      <td>11.666667</td>\n",
       "    </tr>\n",
       "    <tr>\n",
       "      <th>17</th>\n",
       "      <td>80</td>\n",
       "      <td>68.333333</td>\n",
       "      <td>11.666667</td>\n",
       "    </tr>\n",
       "    <tr>\n",
       "      <th>18</th>\n",
       "      <td>80</td>\n",
       "      <td>68.333333</td>\n",
       "      <td>11.666667</td>\n",
       "    </tr>\n",
       "    <tr>\n",
       "      <th>19</th>\n",
       "      <td>80</td>\n",
       "      <td>68.333333</td>\n",
       "      <td>11.666667</td>\n",
       "    </tr>\n",
       "    <tr>\n",
       "      <th>20</th>\n",
       "      <td>80</td>\n",
       "      <td>68.333333</td>\n",
       "      <td>11.666667</td>\n",
       "    </tr>\n",
       "  </tbody>\n",
       "</table>\n",
       "</div>"
      ],
      "text/plain": [
       "    sales       mean       calc\n",
       "0      65  68.333333  -3.333333\n",
       "1      65  68.333333  -3.333333\n",
       "2      65  68.333333  -3.333333\n",
       "3      65  68.333333  -3.333333\n",
       "4      65  68.333333  -3.333333\n",
       "5      65  68.333333  -3.333333\n",
       "6      65  68.333333  -3.333333\n",
       "7      60  68.333333  -8.333333\n",
       "8      60  68.333333  -8.333333\n",
       "9      60  68.333333  -8.333333\n",
       "10     60  68.333333  -8.333333\n",
       "11     60  68.333333  -8.333333\n",
       "12     60  68.333333  -8.333333\n",
       "13     60  68.333333  -8.333333\n",
       "14     80  68.333333  11.666667\n",
       "15     80  68.333333  11.666667\n",
       "16     80  68.333333  11.666667\n",
       "17     80  68.333333  11.666667\n",
       "18     80  68.333333  11.666667\n",
       "19     80  68.333333  11.666667\n",
       "20     80  68.333333  11.666667"
      ]
     },
     "execution_count": 6,
     "metadata": {},
     "output_type": "execute_result"
    }
   ],
   "source": [
    "# 문제5: 각 고객별로 sales와 전체고객의 sales 평균간의 차이는 얼마인가?\n",
    "csales = pd.DataFrame({'sales': cust.sales,\n",
    "                       'mean' : cust.sales.mean()})\n",
    "csales['calc'] = np.array(csales[\"sales\"]) - np.array(csales[\"mean\"])\n",
    "csales"
   ]
  },
  {
   "cell_type": "code",
   "execution_count": 14,
   "metadata": {},
   "outputs": [
    {
     "data": {
      "text/html": [
       "<div>\n",
       "<style scoped>\n",
       "    .dataframe tbody tr th:only-of-type {\n",
       "        vertical-align: middle;\n",
       "    }\n",
       "\n",
       "    .dataframe tbody tr th {\n",
       "        vertical-align: top;\n",
       "    }\n",
       "\n",
       "    .dataframe thead th {\n",
       "        text-align: right;\n",
       "    }\n",
       "</style>\n",
       "<table border=\"1\" class=\"dataframe\">\n",
       "  <thead>\n",
       "    <tr style=\"text-align: right;\">\n",
       "      <th></th>\n",
       "      <th>age</th>\n",
       "      <th>sales</th>\n",
       "      <th>freq</th>\n",
       "      <th>avgsales</th>\n",
       "    </tr>\n",
       "  </thead>\n",
       "  <tbody>\n",
       "    <tr>\n",
       "      <th>0</th>\n",
       "      <td>30</td>\n",
       "      <td>65</td>\n",
       "      <td>3</td>\n",
       "      <td>21.666667</td>\n",
       "    </tr>\n",
       "    <tr>\n",
       "      <th>1</th>\n",
       "      <td>31</td>\n",
       "      <td>65</td>\n",
       "      <td>3</td>\n",
       "      <td>21.666667</td>\n",
       "    </tr>\n",
       "    <tr>\n",
       "      <th>2</th>\n",
       "      <td>32</td>\n",
       "      <td>65</td>\n",
       "      <td>3</td>\n",
       "      <td>21.666667</td>\n",
       "    </tr>\n",
       "  </tbody>\n",
       "</table>\n",
       "</div>"
      ],
      "text/plain": [
       "   age  sales  freq   avgsales\n",
       "0   30     65     3  21.666667\n",
       "1   31     65     3  21.666667\n",
       "2   32     65     3  21.666667"
      ]
     },
     "execution_count": 14,
     "metadata": {},
     "output_type": "execute_result"
    }
   ],
   "source": [
    "# 문제6: cust dataframe에 freq를 걸럼으로 추가한 후 처음부터 3명의 고객을 출력하라.\n",
    "cust[\"freq\"] = freq\n",
    "#cust[:3]\n",
    "cust.head(3)"
   ]
  },
  {
   "cell_type": "code",
   "execution_count": 8,
   "metadata": {},
   "outputs": [
    {
     "data": {
      "text/html": [
       "<div>\n",
       "<style scoped>\n",
       "    .dataframe tbody tr th:only-of-type {\n",
       "        vertical-align: middle;\n",
       "    }\n",
       "\n",
       "    .dataframe tbody tr th {\n",
       "        vertical-align: top;\n",
       "    }\n",
       "\n",
       "    .dataframe thead th {\n",
       "        text-align: right;\n",
       "    }\n",
       "</style>\n",
       "<table border=\"1\" class=\"dataframe\">\n",
       "  <thead>\n",
       "    <tr style=\"text-align: right;\">\n",
       "      <th></th>\n",
       "      <th>age</th>\n",
       "      <th>sales</th>\n",
       "      <th>freq</th>\n",
       "      <th>avgsales</th>\n",
       "    </tr>\n",
       "  </thead>\n",
       "  <tbody>\n",
       "    <tr>\n",
       "      <th>19</th>\n",
       "      <td>49</td>\n",
       "      <td>80</td>\n",
       "      <td>2</td>\n",
       "      <td>40.0</td>\n",
       "    </tr>\n",
       "    <tr>\n",
       "      <th>20</th>\n",
       "      <td>50</td>\n",
       "      <td>80</td>\n",
       "      <td>2</td>\n",
       "      <td>40.0</td>\n",
       "    </tr>\n",
       "  </tbody>\n",
       "</table>\n",
       "</div>"
      ],
      "text/plain": [
       "    age  sales  freq  avgsales\n",
       "19   49     80     2      40.0\n",
       "20   50     80     2      40.0"
      ]
     },
     "execution_count": 8,
     "metadata": {},
     "output_type": "execute_result"
    }
   ],
   "source": [
    "# 문제7: 고객별 구매1건당 평균 sales 금액을 구하여 avgsales 라는 이름의 컬럼으로 cust dataframe에 추가한 후 마지막 두 명의  고객을 출력하라.\n",
    "cust[\"avgsales\"] = cust.sales / cust.freq\n",
    "cust.tail(2)"
   ]
  },
  {
   "cell_type": "code",
   "execution_count": 9,
   "metadata": {},
   "outputs": [
    {
     "data": {
      "text/html": [
       "<div>\n",
       "<style scoped>\n",
       "    .dataframe tbody tr th:only-of-type {\n",
       "        vertical-align: middle;\n",
       "    }\n",
       "\n",
       "    .dataframe tbody tr th {\n",
       "        vertical-align: top;\n",
       "    }\n",
       "\n",
       "    .dataframe thead th {\n",
       "        text-align: right;\n",
       "    }\n",
       "</style>\n",
       "<table border=\"1\" class=\"dataframe\">\n",
       "  <thead>\n",
       "    <tr style=\"text-align: right;\">\n",
       "      <th></th>\n",
       "      <th>age</th>\n",
       "      <th>sales</th>\n",
       "      <th>freq</th>\n",
       "      <th>avgsales</th>\n",
       "    </tr>\n",
       "  </thead>\n",
       "  <tbody>\n",
       "    <tr>\n",
       "      <th>17</th>\n",
       "      <td>47</td>\n",
       "      <td>80</td>\n",
       "      <td>1</td>\n",
       "      <td>80.0</td>\n",
       "    </tr>\n",
       "    <tr>\n",
       "      <th>16</th>\n",
       "      <td>46</td>\n",
       "      <td>80</td>\n",
       "      <td>1</td>\n",
       "      <td>80.0</td>\n",
       "    </tr>\n",
       "    <tr>\n",
       "      <th>15</th>\n",
       "      <td>45</td>\n",
       "      <td>80</td>\n",
       "      <td>1</td>\n",
       "      <td>80.0</td>\n",
       "    </tr>\n",
       "  </tbody>\n",
       "</table>\n",
       "</div>"
      ],
      "text/plain": [
       "    age  sales  freq  avgsales\n",
       "17   47     80     1      80.0\n",
       "16   46     80     1      80.0\n",
       "15   45     80     1      80.0"
      ]
     },
     "execution_count": 9,
     "metadata": {},
     "output_type": "execute_result"
    }
   ],
   "source": [
    "# 문제8: cust dataframe을 avgsales 순서로 정렬하고, avgsales가 가장 큰 세명의 고객을 출력하라.\n",
    "cust.sort_values(by=\"avgsales\", ascending=False).head(3)"
   ]
  },
  {
   "cell_type": "code",
   "execution_count": 10,
   "metadata": {},
   "outputs": [
    {
     "data": {
      "image/png": "[encoded data removed]",
      "text/plain": [
       "<Figure size 432x288 with 1 Axes>"
      ]
     },
     "metadata": {
      "needs_background": "light"
     },
     "output_type": "display_data"
    }
   ],
   "source": [
    "# 문제9: 고객의 freq와 sales간의 분포를 scatter plot으로 작성하라.\n",
    "import matplotlib.pyplot as plt\n",
    "plt.scatter(cust.freq, cust.sales)\n",
    "plt.xlabel(\"freq\")\n",
    "plt.ylabel(\"avgsales\")\n",
    "plt.show()"
   ]
  },
  {
   "cell_type": "code",
   "execution_count": 11,
   "metadata": {},
   "outputs": [
    {
     "data": {
      "image/png": "[encoded data removed]",
      "text/plain": [
       "<Figure size 432x288 with 1 Axes>"
      ]
     },
     "metadata": {
      "needs_background": "light"
     },
     "output_type": "display_data"
    }
   ],
   "source": [
    "# 문제10 : freq와 평균sales간의 관계를 scatterplot을 이용하여 시각화하고 점들간의 분포를 보여주는 폴리노미얼 추세선을 추가하라. \n",
    "# 동일 좌표에 복수의 점이 존재할 수 있으므로 jitter 함수를 이용하여 복수의 점이 존재하는지를 scatterplot에 반영하라. \n",
    "# 결과는 다음의 챠트와 같은 모습이 되어야 한다\n",
    "from sklearn.preprocessing import PolynomialFeatures\n",
    "from sklearn.linear_model import LinearRegression\n",
    "from sklearn.pipeline import make_pipeline\n",
    "\n",
    "def rjitt(arr): #jitter 함수\n",
    "    stdev = .01*(max(arr)-min(arr))\n",
    "    return arr + np.random.randn(len(arr)) * stdev\n",
    "\n",
    "# 회귀함수의 차수 지정: 차수가 1이면 단순 선형회귀분석\n",
    "nDegree = 3\n",
    "\n",
    "tmpcust = cust.copy()\n",
    "\n",
    "model = make_pipeline(PolynomialFeatures(nDegree), LinearRegression())\n",
    "model.fit(np.array(tmpcust.freq).reshape(-1, 1), tmpcust.avgsales)\n",
    "x_reg = np.arange(8)[1:]\n",
    "y_reg = model.predict(x_reg.reshape(-1, 1))\n",
    "\n",
    "tmpcust.freq = rjitt(tmpcust.freq)\n",
    "tmpcust.avgsales = rjitt(tmpcust.avgsales)\n",
    "\n",
    "plt.scatter(tmpcust.freq, tmpcust.avgsales, alpha=.40)\n",
    "plt.plot(x_reg, y_reg, color='gray', linewidth=4, alpha=.40)\n",
    "plt.xlabel(\"freq\")\n",
    "plt.ylabel(\"avgsales\")\n",
    "plt.show()"
   ]
  },
  {
   "cell_type": "code",
   "execution_count": 12,
   "metadata": {},
   "outputs": [
    {
     "data": {
      "image/png": "[encoded data removed]",
      "text/plain": [
       "<Figure size 432x288 with 1 Axes>"
      ]
     },
     "metadata": {
      "needs_background": "light"
     },
     "output_type": "display_data"
    }
   ],
   "source": [
    "# 문제11: 문제 10의 결과에서 40대인 고객들만 red color로 점을 표시하라\n",
    "age40 = tmpcust[(tmpcust[\"age\"] >= 40) & (tmpcust[\"age\"] < 50)]\n",
    "ageother = tmpcust[~((tmpcust[\"age\"] >= 40) & (tmpcust[\"age\"] < 50))]\n",
    "\n",
    "plt.scatter(ageother.freq, ageother.avgsales, alpha=.30)\n",
    "plt.scatter(age40.freq, age40.avgsales, color='red', alpha=.30)\n",
    "plt.plot(x_reg, y_reg, color='gray', linewidth=4, alpha=.40)\n",
    "plt.xlabel(\"freq\")\n",
    "plt.ylabel(\"avgsales\")\n",
    "plt.show()"
   ]
  },
  {
   "cell_type": "code",
   "execution_count": 13,
   "metadata": {},
   "outputs": [
    {
     "data": {
      "image/png": "[encoded data removed]",
      "text/plain": [
       "<Figure size 432x288 with 1 Axes>"
      ]
     },
     "metadata": {
      "needs_background": "light"
     },
     "output_type": "display_data"
    }
   ],
   "source": [
    "# 문제12: 고객리스트에 동일하게 36세이며 두 번에 걸쳐 총 55를 구매한 고객을 세 명 추가한 후 문제 11과 같은 형식의 scatter plot을 작성하라\n",
    "tmpcust = cust.copy()\n",
    "newcust = pd.DataFrame(list(np.repeat({'age':36, 'sales':55, 'freq':2}, 3)))\n",
    "newcust['avgsales'] = newcust.sales / newcust.freq\n",
    "tmpcust = tmpcust.append(newcust, ignore_index=True)\n",
    "\n",
    "model = make_pipeline(PolynomialFeatures(nDegree), LinearRegression())\n",
    "model.fit(np.array(tmpcust.freq).reshape(-1, 1), tmpcust.avgsales)\n",
    "x_reg = np.arange(8)[1:]\n",
    "y_reg = model.predict(x_reg.reshape(-1, 1))\n",
    "\n",
    "tmpcust.freq = rjitt(tmpcust.freq)\n",
    "tmpcust.avgsales = rjitt(tmpcust.avgsales)\n",
    "\n",
    "age40 = tmpcust[(tmpcust[\"age\"] >= 40) & (tmpcust[\"age\"] < 50)]\n",
    "ageother = tmpcust[~((tmpcust[\"age\"] >= 40) & (tmpcust[\"age\"] < 50))]\n",
    "\n",
    "plt.scatter(ageother.freq, ageother.avgsales, alpha=.30)\n",
    "plt.scatter(age40.freq, age40.avgsales, color='red', alpha=.30)\n",
    "plt.plot(x_reg, y_reg, color='gray', linewidth=4, alpha=.40)\n",
    "plt.xlabel(\"freq\")\n",
    "plt.ylabel(\"avgsales\")\n",
    "plt.show() "
   ]
  }
 ],
 "metadata": {
  "kernelspec": {
   "display_name": "Python 3",
   "language": "python",
   "name": "python3"
  },
  "language_info": {
   "codemirror_mode": {
    "name": "ipython",
    "version": 3
   },
   "file_extension": ".py",
   "mimetype": "text/x-python",
   "name": "python",
   "nbconvert_exporter": "python",
   "pygments_lexer": "ipython3",
   "version": "3.8.5"
  }
 },
 "nbformat": 4,
 "nbformat_minor": 4
}
